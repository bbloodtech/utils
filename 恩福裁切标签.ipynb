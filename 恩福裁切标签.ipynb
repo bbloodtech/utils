{
 "cells": [
  {
   "cell_type": "code",
   "execution_count": 32,
   "metadata": {},
   "outputs": [
    {
     "name": "stdout",
     "output_type": "stream",
     "text": [
      "Pic_2022_10_13_163530_6.jpg\n",
      "2\n",
      "1282 819 138 124 12819\n"
     ]
    }
   ],
   "source": [
    "import glob,os,cv2,datetime\n",
    "import matplotlib.pyplot as plt\n",
    "# label_path = r'D:\\xinje_workspace\\project\\1\\dataset\\origin\\Annotations'\n",
    "label_path = r'C:\\Users\\DELL\\Desktop\\1\\Annotations'\n",
    "# img_path = r'D:\\xinje_workspace\\project\\1\\dataset\\origin\\JPEGImages'\n",
    "img_path = r'C:\\Users\\DELL\\Desktop\\1\\JPEGImages'\n",
    "save_label_path = r'D:\\xinje_workspace\\project\\1\\dataset\\origin\\512\\Annotations'\n",
    "save_img_path = r'D:\\xinje_workspace\\project\\1\\dataset\\origin\\512\\JPEGImages'\n",
    "target_w,target_h = [512,512]\n",
    "labels = os.listdir(label_path)\n",
    "imgs = os.listdir(img_path)\n",
    "for label in (labels):\n",
    "    lab = cv2.imread(os.path.join(label_path,label),0)\n",
    "    img = cv2.imread(os.path.join(img_path,label.split('.')[0]+'.jpg'))\n",
    "    ret,thresh = cv2.threshold(lab, 0, 255, cv2.THRESH_BINARY)\n",
    "    num_labels, labels, stats, centroids = cv2.connectedComponentsWithStats(thresh, connectivity=8)\n",
    "    # contours, hierarchy = cv2.findContours(thresh,cv2.RETR_TREE,cv2.CHAIN_APPROX_SIMPLE)\n",
    "\n",
    "    print(label.split('.')[0]+'.jpg')\n",
    "    assert num_labels > 1\n",
    "    for n in range(num_labels-1):\n",
    "        # M = cv2.moments(c) # 计算第一条轮廓的各阶矩,字典形式\n",
    "        # center_x = int(M[\"m10\"] / M[\"m00\"])\n",
    "        # center_y = int(M[\"m01\"] / M[\"m00\"])\n",
    "        x, y, w, h, area = stats[n+1]\n",
    "        center_x = x - w//2\n",
    "        center_y = y - h//2\n",
    "        print(x, y, w, h,area)\n",
    "        if area < 5:\n",
    "            continue\n",
    "        \n",
    "        if w > target_w or h > target_h:\n",
    "            for i in range(int(w/target_w)+1):\n",
    "                for j in range(int(h/target_h)+1):\n",
    "                    crop_img = img[y+j*target_h:y+(j+1)*target_h,x+i*target_w:x+(i+1)*target_w]  \n",
    "                    crop_lab = lab[y+j*target_h:y+(j+1)*target_h,x+i*target_w:x+(i+1)*target_w]\n",
    "                    time = datetime.datetime.now().strftime('%Y-%m-%d-%H-%M-%S-%f')\n",
    "                    cv2.imwrite(os.path.join(save_img_path,'{}.jpg'.format(time)),crop_img)\n",
    "                    cv2.imwrite(os.path.join(save_label_path,'{}.png'.format(time)),crop_lab)\n",
    "        else:\n",
    "            crop_img = img[center_y-target_h//2:center_y+target_h//2,center_x-target_w//2:center_x+target_w//2]  \n",
    "            crop_lab = lab[center_y-target_h//2:center_y+target_h//2,center_x-target_w//2:center_x+target_w//2]\n",
    "            time = datetime.datetime.now().strftime('%Y-%m-%d-%H-%M-%S-%f')\n",
    "            cv2.imwrite(os.path.join(save_img_path,'{}.jpg'.format(time)),crop_img)\n",
    "            cv2.imwrite(os.path.join(save_label_path,'{}.png'.format(time)),crop_lab)\n",
    "\n",
    "\n",
    "\n",
    "\n",
    "\n",
    "\n"
   ]
  },
  {
   "cell_type": "code",
   "execution_count": 24,
   "metadata": {},
   "outputs": [
    {
     "data": {
      "image/png": "[encoded data removed]",
      "text/plain": [
       "<Figure size 640x480 with 1 Axes>"
      ]
     },
     "metadata": {},
     "output_type": "display_data"
    }
   ],
   "source": [
    "img = thresh\n",
    "# b,g,r = cv2.split(img)          #分别提取B、G、R通道\n",
    "# img = cv2.merge([r,g,b])   #重新组合为R、G、B\n",
    "plt.imshow(img)\n",
    "plt.show()  "
   ]
  },
  {
   "cell_type": "code",
   "execution_count": 18,
   "metadata": {},
   "outputs": [
    {
     "data": {
      "text/plain": [
       "0"
      ]
     },
     "execution_count": 18,
     "metadata": {},
     "output_type": "execute_result"
    }
   ],
   "source": [
    "thresh"
   ]
  },
  {
   "cell_type": "code",
   "execution_count": 20,
   "metadata": {},
   "outputs": [
    {
     "data": {
      "text/plain": [
       "1.0"
      ]
     },
     "execution_count": 20,
     "metadata": {},
     "output_type": "execute_result"
    }
   ],
   "source": [
    "ret"
   ]
  },
  {
   "cell_type": "code",
   "execution_count": 70,
   "metadata": {},
   "outputs": [
    {
     "data": {
      "text/plain": [
       "['Pic_2022_12_09_133251_1.jpg',\n",
       " 'Pic_2022_12_09_133642_2.jpg',\n",
       " 'Pic_2022_12_09_140241_4.jpg',\n",
       " 'Pic_2022_12_09_140503_6.jpg',\n",
       " 'Pic_2022_12_09_140622_7.jpg',\n",
       " 'Pic_2022_12_09_140645_8.jpg',\n",
       " 'Pic_2022_12_09_140727_9.jpg',\n",
       " 'Pic_2022_12_09_140758_10.jpg',\n",
       " 'Pic_2022_12_09_140933_11.jpg',\n",
       " 'Pic_2022_12_09_141051_12.jpg',\n",
       " 'Pic_2022_12_09_141111_13.jpg',\n",
       " 'Pic_2022_12_09_141213_14.jpg',\n",
       " 'Pic_2022_12_09_141300_15.jpg',\n",
       " 'Pic_2022_12_09_141320_16.jpg',\n",
       " 'Pic_2022_12_09_141359_17.jpg',\n",
       " 'Pic_2022_12_09_141417_18.jpg']"
      ]
     },
     "execution_count": 70,
     "metadata": {},
     "output_type": "execute_result"
    }
   ],
   "source": [
    "imgs"
   ]
  },
  {
   "cell_type": "code",
   "execution_count": null,
   "metadata": {},
   "outputs": [],
   "source": []
  }
 ],
 "metadata": {
  "kernelspec": {
   "display_name": "pytorch",
   "language": "python",
   "name": "python3"
  },
  "language_info": {
   "codemirror_mode": {
    "name": "ipython",
    "version": 3
   },
   "file_extension": ".py",
   "mimetype": "text/x-python",
   "name": "python",
   "nbconvert_exporter": "python",
   "pygments_lexer": "ipython3",
   "version": "3.9.13"
  },
  "orig_nbformat": 4,
  "vscode": {
   "interpreter": {
    "hash": "3c8bbce1905a9dd26cb00aa759190a74362bd970bef65be21788f069e5be8bc8"
   }
  }
 },
 "nbformat": 4,
 "nbformat_minor": 2
}
