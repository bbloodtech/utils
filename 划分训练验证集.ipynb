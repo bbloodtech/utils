{
 "cells": [
  {
   "cell_type": "code",
   "execution_count": 1,
   "metadata": {},
   "outputs": [
    {
     "name": "stderr",
     "output_type": "stream",
     "text": [
      "  0%|          | 0/3990 [00:00<?, ?it/s]"
     ]
    },
    {
     "name": "stdout",
     "output_type": "stream",
     "text": [
      "divide train and val files.\n"
     ]
    },
    {
     "name": "stderr",
     "output_type": "stream",
     "text": [
      "100%|██████████| 3990/3990 [00:03<00:00, 1032.43it/s]\n",
      "100%|██████████| 6293/6293 [00:05<00:00, 1127.36it/s]"
     ]
    },
    {
     "name": "stdout",
     "output_type": "stream",
     "text": [
      "End of partition dataset.\n"
     ]
    },
    {
     "name": "stderr",
     "output_type": "stream",
     "text": [
      "\n"
     ]
    }
   ],
   "source": [
    "import os\n",
    "import random\n",
    "import shutil\n",
    "from tqdm import tqdm\n",
    "#-------------------------------------------------------#\n",
    "#   修改train_percent用于改变验证集的比例 9:1\n",
    "#-------------------------------------------------------#\n",
    "train_percent       = 0.9\n",
    "#-------------------------------------------------------#\n",
    "#   指向数据集所在的文件夹\n",
    "#-------------------------------------------------------#\n",
    "devkit_path      = 'classification-pytorch\\datasets'\n",
    "\n",
    "if __name__ == \"__main__\":\n",
    "    random.seed(0)\n",
    "    print(\"divide train and val files.\")\n",
    "    class_list = os.listdir(devkit_path)\n",
    "    for cl in class_list:\n",
    "        os.makedirs(os.path.join(devkit_path, 'train', cl))\n",
    "        os.makedirs(os.path.join(devkit_path, 'val', cl))\n",
    "        filepath = os.path.join(devkit_path, cl)\n",
    "        files = os.listdir(filepath)\n",
    "        num     = len(files)  \n",
    "        list    = range(num)  \n",
    "        tr      = int(num*train_percent)  \n",
    "        train   = random.sample(list,tr)\n",
    "        for i in tqdm(list): \n",
    "            if i in train:  \n",
    "                shutil.move(os.path.join(devkit_path, cl, files[i]), \n",
    "                            os.path.join(devkit_path, 'train', cl, files[i]))\n",
    "            else:  \n",
    "                shutil.move(os.path.join(devkit_path, cl, files[i]), \n",
    "                            os.path.join(devkit_path, 'val', cl, files[i]))\n",
    "        if len(os.listdir(os.path.join(devkit_path, cl))) == 0:\n",
    "            shutil.rmtree(os.path.join(devkit_path, cl))\n",
    "                            \n",
    "    print(\"End of partition dataset.\")\n",
    "    \n",
    "\n",
    "\n"
   ]
  },
  {
   "cell_type": "code",
   "execution_count": null,
   "metadata": {},
   "outputs": [],
   "source": []
  }
 ],
 "metadata": {
  "kernelspec": {
   "display_name": "pytorch",
   "language": "python",
   "name": "python3"
  },
  "language_info": {
   "codemirror_mode": {
    "name": "ipython",
    "version": 3
   },
   "file_extension": ".py",
   "mimetype": "text/x-python",
   "name": "python",
   "nbconvert_exporter": "python",
   "pygments_lexer": "ipython3",
   "version": "3.9.13 (main, Oct 13 2022, 21:23:06) [MSC v.1916 64 bit (AMD64)]"
  },
  "orig_nbformat": 4,
  "vscode": {
   "interpreter": {
    "hash": "3c8bbce1905a9dd26cb00aa759190a74362bd970bef65be21788f069e5be8bc8"
   }
  }
 },
 "nbformat": 4,
 "nbformat_minor": 2
}
