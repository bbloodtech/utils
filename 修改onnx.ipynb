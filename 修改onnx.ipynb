{
 "cells": [
  {
   "cell_type": "code",
   "execution_count": 1,
   "metadata": {},
   "outputs": [],
   "source": [
    "import torch,onnx\n",
    "import numpy as np\n",
    "from onnx import helper\n",
    "model = onnx.load(r\"C:\\Users\\DELL\\Desktop\\models.onnx\")\n",
    "nodes = model.graph.node\n"
   ]
  },
  {
   "cell_type": "code",
   "execution_count": 6,
   "metadata": {},
   "outputs": [],
   "source": [
    "\n",
    "ArgMax_node = onnx.helper.make_node(\n",
    "    name = \"custom_added_ArgMax0\",\n",
    "    op_type=\"ArgMax\",\n",
    "    inputs=[\"outputs\"],\n",
    "    outputs=[\"output\"],\n",
    "    axis=1,\n",
    "    keepdims=0,\n",
    "    select_last_index=False,\n",
    ")\n",
    "\n",
    "model.graph.node.insert(537,ArgMax_node)\n",
    "output = helper.make_tensor_value_info(\"output\",onnx.TensorProto.INT64,[1,512,512])\n",
    "model.graph.output.insert(1,output)"
   ]
  },
  {
   "cell_type": "code",
   "execution_count": 7,
   "metadata": {},
   "outputs": [],
   "source": [
    "onnx.save(model, r\"C:\\Users\\DELL\\Desktop\\deeplab.onnx\")"
   ]
  },
  {
   "cell_type": "code",
   "execution_count": 8,
   "metadata": {},
   "outputs": [],
   "source": [
    "onnx.checker.check_model(model)"
   ]
  },
  {
   "cell_type": "code",
   "execution_count": 2,
   "metadata": {},
   "outputs": [
    {
     "data": {
      "text/plain": [
       "input: \"870\"\n",
       "input: \"881\"\n",
       "input: \"882\"\n",
       "input: \"880\"\n",
       "output: \"outputs\"\n",
       "name: \"Resize_536\"\n",
       "op_type: \"Resize\"\n",
       "attribute {\n",
       "  name: \"coordinate_transformation_mode\"\n",
       "  s: \"align_corners\"\n",
       "  type: STRING\n",
       "}\n",
       "attribute {\n",
       "  name: \"cubic_coeff_a\"\n",
       "  f: -0.75\n",
       "  type: FLOAT\n",
       "}\n",
       "attribute {\n",
       "  name: \"mode\"\n",
       "  s: \"linear\"\n",
       "  type: STRING\n",
       "}\n",
       "attribute {\n",
       "  name: \"nearest_mode\"\n",
       "  s: \"floor\"\n",
       "  type: STRING\n",
       "}"
      ]
     },
     "execution_count": 2,
     "metadata": {},
     "output_type": "execute_result"
    }
   ],
   "source": [
    "nodes[536]"
   ]
  },
  {
   "cell_type": "code",
   "execution_count": 3,
   "metadata": {},
   "outputs": [
    {
     "name": "stdout",
     "output_type": "stream",
     "text": [
      "536\n"
     ]
    }
   ],
   "source": [
    "for i in range(len(nodes)):\n",
    "    if nodes[i].op_type == 'Resize':\n",
    "        node_rise = nodes[i]\n",
    "        if node_rise.output[0] == 'outputs':\n",
    "            print(i)  # 536\n"
   ]
  },
  {
   "cell_type": "code",
   "execution_count": 4,
   "metadata": {},
   "outputs": [
    {
     "data": {
      "text/plain": [
       "537"
      ]
     },
     "execution_count": 4,
     "metadata": {},
     "output_type": "execute_result"
    }
   ],
   "source": [
    "len(nodes)"
   ]
  },
  {
   "cell_type": "code",
   "execution_count": null,
   "metadata": {},
   "outputs": [],
   "source": []
  }
 ],
 "metadata": {
  "kernelspec": {
   "display_name": "pytorch",
   "language": "python",
   "name": "python3"
  },
  "language_info": {
   "codemirror_mode": {
    "name": "ipython",
    "version": 3
   },
   "file_extension": ".py",
   "mimetype": "text/x-python",
   "name": "python",
   "nbconvert_exporter": "python",
   "pygments_lexer": "ipython3",
   "version": "3.9.13"
  },
  "orig_nbformat": 4,
  "vscode": {
   "interpreter": {
    "hash": "3c8bbce1905a9dd26cb00aa759190a74362bd970bef65be21788f069e5be8bc8"
   }
  }
 },
 "nbformat": 4,
 "nbformat_minor": 2
}
