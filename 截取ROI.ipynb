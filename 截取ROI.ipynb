{
 "cells": [
  {
   "cell_type": "code",
   "execution_count": 1,
   "metadata": {},
   "outputs": [],
   "source": [
    "from PIL import Image\n",
    "import matplotlib.pyplot as plt\n",
    "import os\n",
    "imgpath = r'D:\\BaiduNetdiskDownload\\qie'\n",
    "imgs = os.listdir(imgpath)\n",
    "i = 0\n",
    "for img in imgs:\n",
    "    i += 1\n",
    "    image = Image.open(os.path.join(imgpath, img))\n",
    "    # plt.subplot(5, 4, i)\n",
    "    roi_l = image.crop((1620,320,2420,720))\n",
    "    # roi_r = image.crop((2020,320,2420,720))\n",
    "    roi_l.save(os.path.join('D:\\\\BaiduNetdiskDownload\\\\datasets\\\\all', \n",
    "                       os.path.splitext(img)[0].replace(\" \", \"\") + '_all' + '.tif'))\n",
    "    # roi_r.save(os.path.join('D:\\\\BaiduNetdiskDownload\\\\datasets\\\\right', \n",
    "    #                    os.path.splitext(img)[0].replace(\" \", \"\") + '_r' + '.tif'))\n",
    "    # plt.imshow(roi_r)\n",
    "# plt.show()    \n",
    "    \n",
    "    "
   ]
  },
  {
   "cell_type": "code",
   "execution_count": null,
   "metadata": {},
   "outputs": [],
   "source": []
  }
 ],
 "metadata": {
  "kernelspec": {
   "display_name": "Python 3.9.10 ('pytorch')",
   "language": "python",
   "name": "python3"
  },
  "language_info": {
   "codemirror_mode": {
    "name": "ipython",
    "version": 3
   },
   "file_extension": ".py",
   "mimetype": "text/x-python",
   "name": "python",
   "nbconvert_exporter": "python",
   "pygments_lexer": "ipython3",
   "version": "3.9.10"
  },
  "orig_nbformat": 4,
  "vscode": {
   "interpreter": {
    "hash": "f1fa7b7abcb5189402ed5fe1a8e8bd9eda19de8410cfe42114516ef2ef4fa45b"
   }
  }
 },
 "nbformat": 4,
 "nbformat_minor": 2
}
